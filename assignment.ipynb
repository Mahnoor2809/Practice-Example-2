{
 "cells": [
  {
   "cell_type": "markdown",
   "metadata": {},
   "source": [
    "# Length of list"
   ]
  },
  {
   "cell_type": "code",
   "execution_count": 15,
   "metadata": {},
   "outputs": [
    {
     "name": "stdout",
     "output_type": "stream",
     "text": [
      "15\n"
     ]
    }
   ],
   "source": [
    "list = [1,3,5,7,9,2,4,6,8,3,7,4,6,3,8]\n",
    "print(len(list))\n"
   ]
  },
  {
   "cell_type": "markdown",
   "metadata": {},
   "source": [
    "# Add Number in List"
   ]
  },
  {
   "cell_type": "code",
   "execution_count": 21,
   "metadata": {},
   "outputs": [
    {
     "name": "stdout",
     "output_type": "stream",
     "text": [
      "29\n"
     ]
    }
   ],
   "source": [
    "list = [2,4,6,8,5,4]\n",
    "print(sum(list))\n"
   ]
  },
  {
   "cell_type": "markdown",
   "metadata": {},
   "source": [
    "# Element less than 5"
   ]
  },
  {
   "cell_type": "code",
   "execution_count": 20,
   "metadata": {},
   "outputs": [
    {
     "name": "stdout",
     "output_type": "stream",
     "text": [
      "[1, 1, 2, 3]\n"
     ]
    }
   ],
   "source": [
    "a = [1, 1, 2, 3, 5, 8, 13, 21, 34, 55, 89]\n",
    "new_list = []\n",
    "for item in a:\n",
    "    if item <5:\n",
    "        new_list.append(item)\n",
    "print(new_list)\n",
    "\n",
    "\n",
    "    \n"
   ]
  },
  {
   "cell_type": "markdown",
   "metadata": {},
   "source": [
    "# Largest Number of numeric list"
   ]
  },
  {
   "cell_type": "code",
   "execution_count": 23,
   "metadata": {},
   "outputs": [
    {
     "name": "stdout",
     "output_type": "stream",
     "text": [
      "[195]\n",
      "[195, 271]\n",
      "[195, 271, 213]\n",
      "[195, 271, 213, 176]\n",
      "[195, 271, 213, 176, 899]\n",
      "[195, 271, 213, 176, 899, 860]\n",
      "[195, 271, 213, 176, 899, 860, 977]\n",
      "[195, 271, 213, 176, 899, 860, 977, 669]\n",
      "[195, 271, 213, 176, 899, 860, 977, 669, 656]\n",
      "[195, 271, 213, 176, 899, 860, 977, 669, 656, 589]\n",
      "977\n"
     ]
    }
   ],
   "source": [
    "import random\n",
    "list = []\n",
    "for i in range (0,10):\n",
    "    list.append(random.randint(100,1000))\n",
    "    print(list)\n",
    "print(max(list))"
   ]
  },
  {
   "cell_type": "code",
   "execution_count": null,
   "metadata": {},
   "outputs": [],
   "source": []
  }
 ],
 "metadata": {
  "kernelspec": {
   "display_name": "Python 3",
   "language": "python",
   "name": "python3"
  },
  "language_info": {
   "codemirror_mode": {
    "name": "ipython",
    "version": 3
   },
   "file_extension": ".py",
   "mimetype": "text/x-python",
   "name": "python",
   "nbconvert_exporter": "python",
   "pygments_lexer": "ipython3",
   "version": "3.7.3"
  }
 },
 "nbformat": 4,
 "nbformat_minor": 2
}
